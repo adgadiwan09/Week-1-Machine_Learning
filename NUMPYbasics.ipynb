{
  "nbformat": 4,
  "nbformat_minor": 0,
  "metadata": {
    "colab": {
      "name": "Untitled0.ipynb",
      "provenance": [],
      "authorship_tag": "ABX9TyPtU5OOUWxzBM6V5CXqyltQ",
      "include_colab_link": true
    },
    "kernelspec": {
      "name": "python3",
      "display_name": "Python 3"
    }
  },
  "cells": [
    {
      "cell_type": "markdown",
      "metadata": {
        "id": "view-in-github",
        "colab_type": "text"
      },
      "source": [
        "<a href=\"https://colab.research.google.com/github/adgadiwan09/Week-1-python/blob/master/NUMPYbasics.ipynb\" target=\"_parent\"><img src=\"https://colab.research.google.com/assets/colab-badge.svg\" alt=\"Open In Colab\"/></a>"
      ]
    },
    {
      "cell_type": "code",
      "metadata": {
        "id": "0nmYQ23pH1vy",
        "colab_type": "code",
        "colab": {}
      },
      "source": [
        "#NUMPY BASICS"
      ],
      "execution_count": 0,
      "outputs": []
    },
    {
      "cell_type": "code",
      "metadata": {
        "id": "ajsCt4_kSzed",
        "colab_type": "code",
        "colab": {}
      },
      "source": [
        "import numpy as np\n",
        "import sys\n"
      ],
      "execution_count": 0,
      "outputs": []
    },
    {
      "cell_type": "code",
      "metadata": {
        "id": "_kzjcU2AS51b",
        "colab_type": "code",
        "colab": {
          "base_uri": "https://localhost:8080/",
          "height": 34
        },
        "outputId": "cbaece09-6285-490d-b876-79bb1777d0ad"
      },
      "source": [
        "print(np.__version__)"
      ],
      "execution_count": 7,
      "outputs": [
        {
          "output_type": "stream",
          "text": [
            "1.18.4\n"
          ],
          "name": "stdout"
        }
      ]
    },
    {
      "cell_type": "code",
      "metadata": {
        "id": "MfAJBei-TKNU",
        "colab_type": "code",
        "colab": {
          "base_uri": "https://localhost:8080/",
          "height": 34
        },
        "outputId": "1cd71777-afec-4bba-f929-1d48bfb337d7"
      },
      "source": [
        "#creating array\n",
        "np.array(1)"
      ],
      "execution_count": 10,
      "outputs": [
        {
          "output_type": "execute_result",
          "data": {
            "text/plain": [
              "array(1)"
            ]
          },
          "metadata": {
            "tags": []
          },
          "execution_count": 10
        }
      ]
    },
    {
      "cell_type": "code",
      "metadata": {
        "id": "gp4OU0ffTb_A",
        "colab_type": "code",
        "colab": {}
      },
      "source": [
        "#scalar 0 dimention array(1 value) \n",
        "#vector 1 dimention array(row/columns)\n",
        "#matrix 2 dimention array(rows*column)"
      ],
      "execution_count": 0,
      "outputs": []
    },
    {
      "cell_type": "code",
      "metadata": {
        "id": "RcJ7UOq1T5T6",
        "colab_type": "code",
        "colab": {
          "base_uri": "https://localhost:8080/",
          "height": 119
        },
        "outputId": "c87ece89-b84b-462e-b2b6-f4bd555db180"
      },
      "source": [
        "#scalar\n",
        "a = np.array(2)\n",
        "print(type(a))\n",
        "print(a)\n",
        "print(a.size)\n",
        "print(a.shape)\n",
        "print(a.ndim)\n",
        "print(a.dtype)"
      ],
      "execution_count": 17,
      "outputs": [
        {
          "output_type": "stream",
          "text": [
            "<class 'numpy.ndarray'>\n",
            "2\n",
            "1\n",
            "()\n",
            "0\n",
            "int64\n"
          ],
          "name": "stdout"
        }
      ]
    },
    {
      "cell_type": "code",
      "metadata": {
        "id": "QrUz1pM0UwVN",
        "colab_type": "code",
        "colab": {
          "base_uri": "https://localhost:8080/",
          "height": 119
        },
        "outputId": "12fbcf4d-bdb6-49b9-d848-315d955fe395"
      },
      "source": [
        "#vector\n",
        "a = np.array([1,2,3,4,5])\n",
        "print(type(a))\n",
        "print(a)\n",
        "print(a.size)\n",
        "print(a.shape)\n",
        "print(a.ndim)\n",
        "print(a.dtype)"
      ],
      "execution_count": 18,
      "outputs": [
        {
          "output_type": "stream",
          "text": [
            "<class 'numpy.ndarray'>\n",
            "[1 2 3 4 5]\n",
            "5\n",
            "(5,)\n",
            "1\n",
            "int64\n"
          ],
          "name": "stdout"
        }
      ]
    },
    {
      "cell_type": "code",
      "metadata": {
        "id": "4oiVohWKVkHz",
        "colab_type": "code",
        "colab": {
          "base_uri": "https://localhost:8080/",
          "height": 136
        },
        "outputId": "f60bae0e-c7df-41c0-ddee-3daca7d168b3"
      },
      "source": [
        "#matrix\n",
        "a = np.array([[1,2,3,4,5],[9,8,7,6,5]])\n",
        "print(type(a))\n",
        "print(a)\n",
        "print(a.size)\n",
        "print(a.shape)\n",
        "print(a.ndim)\n",
        "print(a.dtype)"
      ],
      "execution_count": 19,
      "outputs": [
        {
          "output_type": "stream",
          "text": [
            "<class 'numpy.ndarray'>\n",
            "[[1 2 3 4 5]\n",
            " [9 8 7 6 5]]\n",
            "10\n",
            "(2, 5)\n",
            "2\n",
            "int64\n"
          ],
          "name": "stdout"
        }
      ]
    },
    {
      "cell_type": "code",
      "metadata": {
        "id": "k1MCFEyMXHwA",
        "colab_type": "code",
        "colab": {
          "base_uri": "https://localhost:8080/",
          "height": 153
        },
        "outputId": "552e7452-b98e-49b4-c4e3-9af0dc985601"
      },
      "source": [
        "#3D array\n",
        "a = np.array([[1,2,3,4,5],[9,8,7,6,5],[4,5,6,7,8]])\n",
        "print(type(a))\n",
        "print(a)\n",
        "print(a.size)\n",
        "print(a.shape)\n",
        "print(a.ndim)\n",
        "print(a.dtype)\n"
      ],
      "execution_count": 20,
      "outputs": [
        {
          "output_type": "stream",
          "text": [
            "<class 'numpy.ndarray'>\n",
            "[[1 2 3 4 5]\n",
            " [9 8 7 6 5]\n",
            " [4 5 6 7 8]]\n",
            "15\n",
            "(3, 5)\n",
            "2\n",
            "int64\n"
          ],
          "name": "stdout"
        }
      ]
    },
    {
      "cell_type": "code",
      "metadata": {
        "id": "QqPL8hZ5XpfN",
        "colab_type": "code",
        "colab": {
          "base_uri": "https://localhost:8080/",
          "height": 51
        },
        "outputId": "a3e1362a-05b0-4f0d-9349-40b403ce1efa"
      },
      "source": [
        "#creating random vector \n",
        "r=np.random.randint(1,100,20)\n",
        "r"
      ],
      "execution_count": 26,
      "outputs": [
        {
          "output_type": "execute_result",
          "data": {
            "text/plain": [
              "array([65,  3, 55, 89, 13, 24, 89, 54,  3, 45, 10, 31,  6, 39, 11, 96, 88,\n",
              "       63, 63, 79])"
            ]
          },
          "metadata": {
            "tags": []
          },
          "execution_count": 26
        }
      ]
    },
    {
      "cell_type": "code",
      "metadata": {
        "id": "pRrHyrqRYgmo",
        "colab_type": "code",
        "colab": {
          "base_uri": "https://localhost:8080/",
          "height": 51
        },
        "outputId": "86a3bc2d-1bd2-47e0-f3fa-145e6c77a0c2"
      },
      "source": [
        "#conversion of vector into matrix\n",
        "r.reshape(2,10)"
      ],
      "execution_count": 28,
      "outputs": [
        {
          "output_type": "execute_result",
          "data": {
            "text/plain": [
              "array([[65,  3, 55, 89, 13, 24, 89, 54,  3, 45],\n",
              "       [10, 31,  6, 39, 11, 96, 88, 63, 63, 79]])"
            ]
          },
          "metadata": {
            "tags": []
          },
          "execution_count": 28
        }
      ]
    },
    {
      "cell_type": "code",
      "metadata": {
        "id": "ln4xJcm5Yz8n",
        "colab_type": "code",
        "colab": {
          "base_uri": "https://localhost:8080/",
          "height": 51
        },
        "outputId": "17a71619-2c69-4031-ff7c-8b3b78e3fdb5"
      },
      "source": [
        "#random float value\n",
        "np.random.random(10)"
      ],
      "execution_count": 29,
      "outputs": [
        {
          "output_type": "execute_result",
          "data": {
            "text/plain": [
              "array([0.86650575, 0.44536914, 0.64457297, 0.56005693, 0.9739357 ,\n",
              "       0.0244755 , 0.17144375, 0.16097907, 0.88054913, 0.67470791])"
            ]
          },
          "metadata": {
            "tags": []
          },
          "execution_count": 29
        }
      ]
    },
    {
      "cell_type": "code",
      "metadata": {
        "id": "Z3xKw-g9awqt",
        "colab_type": "code",
        "colab": {
          "base_uri": "https://localhost:8080/",
          "height": 102
        },
        "outputId": "c6707c69-e4de-443f-9094-acd34c49c997"
      },
      "source": [
        "#creating random matrix\n",
        "r=np.random.randint(1,100,size=(5,2))\n",
        "r"
      ],
      "execution_count": 31,
      "outputs": [
        {
          "output_type": "execute_result",
          "data": {
            "text/plain": [
              "array([[22,  6],\n",
              "       [61, 54],\n",
              "       [54,  7],\n",
              "       [23, 59],\n",
              "       [40, 35]])"
            ]
          },
          "metadata": {
            "tags": []
          },
          "execution_count": 31
        }
      ]
    },
    {
      "cell_type": "code",
      "metadata": {
        "id": "rzgQdxSZbsRC",
        "colab_type": "code",
        "colab": {
          "base_uri": "https://localhost:8080/",
          "height": 34
        },
        "outputId": "012e4cfc-c018-4bf6-c2ad-59d2210191f8"
      },
      "source": [
        "#printing range\n",
        "x=np.arange(1,11)\n",
        "x"
      ],
      "execution_count": 34,
      "outputs": [
        {
          "output_type": "execute_result",
          "data": {
            "text/plain": [
              "array([ 1,  2,  3,  4,  5,  6,  7,  8,  9, 10])"
            ]
          },
          "metadata": {
            "tags": []
          },
          "execution_count": 34
        }
      ]
    },
    {
      "cell_type": "code",
      "metadata": {
        "id": "WrKuHkYpby65",
        "colab_type": "code",
        "colab": {
          "base_uri": "https://localhost:8080/",
          "height": 68
        },
        "outputId": "2241412d-9dd7-4a34-9485-02efcb3bcc15"
      },
      "source": [
        "#calculating distance\n",
        "a=np.array([1,2])\n",
        "b=np.array([3,4])\n",
        "d1=np.linalg.norm(a)\n",
        "d2=np.linalg.norm(b)\n",
        "print(d1)\n",
        "print(d2)\n",
        "print(np.linalg.norm(a-b))"
      ],
      "execution_count": 36,
      "outputs": [
        {
          "output_type": "stream",
          "text": [
            "2.23606797749979\n",
            "5.0\n",
            "2.8284271247461903\n"
          ],
          "name": "stdout"
        }
      ]
    },
    {
      "cell_type": "code",
      "metadata": {
        "id": "5Dp3uvdMcyo6",
        "colab_type": "code",
        "colab": {
          "base_uri": "https://localhost:8080/",
          "height": 102
        },
        "outputId": "4d211f22-7ef2-47e9-8d94-b7f1df638f8f"
      },
      "source": [
        "#array of 1\n",
        "f=np.ones(10,dtype=int)\n",
        "f1=np.zeros([5,5])\n",
        "f1"
      ],
      "execution_count": 39,
      "outputs": [
        {
          "output_type": "execute_result",
          "data": {
            "text/plain": [
              "array([[0., 0., 0., 0., 0.],\n",
              "       [0., 0., 0., 0., 0.],\n",
              "       [0., 0., 0., 0., 0.],\n",
              "       [0., 0., 0., 0., 0.],\n",
              "       [0., 0., 0., 0., 0.]])"
            ]
          },
          "metadata": {
            "tags": []
          },
          "execution_count": 39
        }
      ]
    },
    {
      "cell_type": "code",
      "metadata": {
        "id": "sfB7HNCneL4H",
        "colab_type": "code",
        "colab": {}
      },
      "source": [
        ""
      ],
      "execution_count": 0,
      "outputs": []
    }
  ]
}